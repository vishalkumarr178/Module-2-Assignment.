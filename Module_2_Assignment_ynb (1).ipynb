{
  "nbformat": 4,
  "nbformat_minor": 0,
  "metadata": {
    "colab": {
      "provenance": []
    },
    "kernelspec": {
      "name": "python3",
      "display_name": "Python 3"
    },
    "language_info": {
      "name": "python"
    }
  },
  "cells": [
    {
      "cell_type": "code",
      "execution_count": null,
      "metadata": {
        "id": "5qXaFSd_mTQj"
      },
      "outputs": [],
      "source": []
    },
    {
      "cell_type": "markdown",
      "source": [
        "Python Basics **Questions**\n",
        "\n",
        " 1.What is Python, and why is it popular\n",
        "\n",
        " Ans :- Python is a high-level, easy-to-learn programming language known for its simplicity, readability, and versatility. It's popular because it's used in various fields like web development, data science, AI, automation, and more. With a large library ecosystem, strong community support, and cross-platform compatibility, Python makes development faster and accessible to beginners while still being powerful for experienced developers.\n",
        "\n",
        " 2.What is an interpreter in Python?\n",
        "\n",
        " Ans: An **interpreter** in Python is a program that executes Python code line by line, translating it into actions or outputs without needing to compile the entire code first. It makes debugging easier and allows Python code to run on any platform with the right interpreter.\n",
        "\n",
        " 3. What are pre-defined keywords in Python?\n",
        "\n",
        " Ans:Predefined keywords in Python are reserved words that have special meaning and cannot be used as identifiers (variable names, function names, etc.). Examples include:\n",
        "\n",
        "- **True**, **False**, **None**\n",
        "- **if**, **else**, **elif**\n",
        "- **def**, **class**, **return**\n",
        "- **for**, **while**, **break**\n",
        "- **import**, **try**, **except**\n",
        "\n",
        "4. Can keywords be used as variable names?\n",
        "\n",
        "Ans:No, keywords cannot be used as variable names in Python, as they are reserved for specific functionality in the language.\n",
        "\n",
        "5.  What is mutability in Python?\n",
        "\n",
        "Ans:Mutability in Python refers to whether an object can be changed after it is created.\n",
        "\n",
        "- **Mutable objects** (e.g., lists, dictionaries, sets) can be modified.\n",
        "- **Immutable objects** (e.g., strings, tuples, integers) cannot be changed once created.\n",
        "6.Why are lists mutable, but tuples are immutable?\n",
        "\n",
        "Ans:Lists are mutable because they are designed to allow modification, such as adding or removing elements. Tuples, on the other hand, are immutable to provide a consistent, unchangeable structure, which makes them useful for fixed collections of data and ensures data integrity.\n",
        "\n",
        "7. What is the difference between “==” and “is” operators in Python?\n",
        "\n",
        "Ans:== checks if the values of two objects are equal.\n",
        "is checks if two objects refer to the same memory location (i.e., are the same object).\n",
        "\n",
        "8. What are logical operators in Python?\n",
        "\n",
        "Ans :Logical operators in Python are used to combine conditional statements and return a boolean value (True or False):\n",
        "\n",
        "and: Returns True if both conditions are true.\n",
        "or: Returns True if at least one condition is true.\n",
        "not: Reverses the boolean value of the condition\n",
        "\n",
        "9. What is type casting in Python?\n",
        "\n",
        "Ans:Type casting in Python is the process of converting one data type into another. You can use built-in functions like:\n",
        "\n",
        "int(): Converts to integer\n",
        "float(): Converts to float\n",
        "str(): Converts to string\n",
        "\n",
        "10.What is the difference between implicit and explicit type casting?\n",
        "\n",
        "Ans:Implicit type casting (or type coercion) is done automatically by Python when it converts one data type to another, usually when the conversion is safe (e.g., from int to float).\n",
        "\n",
        "Explicit type casting requires the programmer to manually convert data types using functions like int(), float(), or str().\n",
        "\n",
        "11.What is the purpose of conditional statements in Python?\n",
        "\n",
        "Ans: Conditional statements in Python are used to make decisions based on conditions. They allow the program to execute certain code only if specific criteria are met. The main conditional statements are:\n",
        "\n",
        "if: Executes a block of code if the condition is true.\n",
        "elif: Checks another condition if the previous ones are false.\n",
        "else: Executes code if all previous conditions are false.\n",
        "\n",
        "\n",
        "12. How does the elif statement work?\n",
        "\n",
        "Ans:The elif (short for \"else if\") statement in Python checks additional conditions if the previous if or elif conditions are false. It allows you to test multiple conditions sequentially.\n",
        "\n",
        "13.What is the difference between for and while loops?\n",
        "\n",
        "Ans:The main difference between for and while loops is how they control the flow of iteration:\n",
        "\n",
        "for loop: It iterates over a sequence (like a list, range, or string) or runs a set number of times. The number of iterations is often determined in advance.\n",
        "\n",
        "Use case: When you know how many times you need to iterate.\n",
        "while loop: It continues to execute as long as a condition is True. The number of iterations is not predetermined and depends on the condition.\n",
        "\n",
        "Use case: When the number of iterations is unknown and depends on some condition.\n",
        "\n",
        "14.Describe a scenario where a while loop is more suitable than a for loop?\n",
        "Ans:A while loop is more suitable when the number of iterations is not known in advance and depends on a condition that may change during execution. For example, in a scenario where you're waiting for user input or checking a sensor value repeatedly until a certain condition is met\n",
        "\n",
        "\n",
        "\n",
        "\n",
        " Practical Questions\n",
        "\n",
        "\n",
        " 1.Write a Python program to print \"Hello, World!\"\n",
        "\n",
        "\n",
        "\n",
        "\n"
      ],
      "metadata": {
        "id": "1nCsS_vcm_eG"
      }
    },
    {
      "cell_type": "code",
      "source": [
        "# prompt: print(\"Hello, World!\")\n",
        "\n",
        "print(\"Hello, World!\")\n"
      ],
      "metadata": {
        "id": "iIrqhrLyz-4M"
      },
      "execution_count": null,
      "outputs": []
    },
    {
      "cell_type": "markdown",
      "source": [
        "2. Write a Python program that displays your name and age\n"
      ],
      "metadata": {
        "id": "7RyxOzLp0JNU"
      }
    },
    {
      "cell_type": "code",
      "source": [
        "name = \"John Doe\"  # Replace with your name\n",
        "age = 25           # Replace with your age\n",
        "\n",
        "print(\"Name:\", name)\n",
        "print(\"Age:\", age)\n",
        "\n"
      ],
      "metadata": {
        "colab": {
          "base_uri": "https://localhost:8080/"
        },
        "id": "UJ6d7CKnzVft",
        "outputId": "fcbed711-722b-4448-f95e-ebe02546fabb"
      },
      "execution_count": 1,
      "outputs": [
        {
          "output_type": "stream",
          "name": "stdout",
          "text": [
            "Name: John Doe\n",
            "Age: 25\n"
          ]
        }
      ]
    },
    {
      "cell_type": "markdown",
      "source": [],
      "metadata": {
        "id": "o1wz4k2azWX5"
      }
    },
    {
      "cell_type": "markdown",
      "source": [
        "3.Write code to print all the pre-defined keywords in Python using the keyword library"
      ],
      "metadata": {
        "id": "kIyjChBN00jz"
      }
    },
    {
      "cell_type": "code",
      "source": [
        "import keyword\n",
        "\n",
        "# Print the list of predefined keywords in Python\n",
        "print(\"Predefined keywords in Python:\")\n",
        "print(keyword.kwlist)\n",
        "\n"
      ],
      "metadata": {
        "colab": {
          "base_uri": "https://localhost:8080/"
        },
        "id": "2Ml77nB3zW28",
        "outputId": "9b4e1aca-81f0-48c1-ec92-51e96a0f4320"
      },
      "execution_count": 2,
      "outputs": [
        {
          "output_type": "stream",
          "name": "stdout",
          "text": [
            "Predefined keywords in Python:\n",
            "['False', 'None', 'True', 'and', 'as', 'assert', 'async', 'await', 'break', 'class', 'continue', 'def', 'del', 'elif', 'else', 'except', 'finally', 'for', 'from', 'global', 'if', 'import', 'in', 'is', 'lambda', 'nonlocal', 'not', 'or', 'pass', 'raise', 'return', 'try', 'while', 'with', 'yield']\n"
          ]
        }
      ]
    },
    {
      "cell_type": "markdown",
      "source": [],
      "metadata": {
        "id": "XPvGeCZ9zXSu"
      }
    },
    {
      "cell_type": "code",
      "source": [],
      "metadata": {
        "id": "6zgMBYcuzYNE"
      },
      "execution_count": null,
      "outputs": []
    },
    {
      "cell_type": "markdown",
      "source": [
        "4.Write a program that checks if a given word is a Python keyword.?"
      ],
      "metadata": {
        "id": "JRTCblMY1DMk"
      }
    },
    {
      "cell_type": "code",
      "source": [
        "import keyword\n",
        "\n",
        "# Get user input\n",
        "word = input(\"Enter a word to check: \")\n",
        "\n",
        "# Check if the word is a Python keyword\n",
        "if keyword.iskeyword(word):\n",
        "    print(f\"'{word}' is a Python keyword.\")\n",
        "else:\n",
        "    print(f\"'{word}' is not a Python keyword.\")\n"
      ],
      "metadata": {
        "colab": {
          "base_uri": "https://localhost:8080/"
        },
        "id": "XO8raKGf1NhO",
        "outputId": "9b0dff08-366e-43b2-d028-4f048d76156a"
      },
      "execution_count": 3,
      "outputs": [
        {
          "output_type": "stream",
          "name": "stdout",
          "text": [
            "Enter a word to check: vishal\n",
            "'vishal' is not a Python keyword.\n"
          ]
        }
      ]
    },
    {
      "cell_type": "markdown",
      "source": [
        "5.Create a list and tuple in Python, and demonstrate how attempting to change an element works differently\n",
        "for each."
      ],
      "metadata": {
        "id": "B1d_3IqSzYl3"
      }
    },
    {
      "cell_type": "code",
      "source": [
        "# Creating a list and a tuple\n",
        "my_list = [1, 2, 3, 4]\n",
        "my_tuple = (1, 2, 3, 4)\n",
        "\n",
        "# Trying to change an element in the list (works fine)\n",
        "my_list[0] = 10\n",
        "print(\"List after change:\", my_list)\n",
        "\n",
        "# Trying to change an element in the tuple (will raise an error)\n",
        "try:\n",
        "    my_tuple[0] = 10\n",
        "except TypeError as e:\n",
        "    print(\"Error when trying to change tuple:\", e)\n",
        "\n"
      ],
      "metadata": {
        "colab": {
          "base_uri": "https://localhost:8080/"
        },
        "id": "J0N1IQt316Vb",
        "outputId": "17053bbf-18f0-43b5-a844-f7502c74481f"
      },
      "execution_count": 4,
      "outputs": [
        {
          "output_type": "stream",
          "name": "stdout",
          "text": [
            "List after change: [10, 2, 3, 4]\n",
            "Error when trying to change tuple: 'tuple' object does not support item assignment\n"
          ]
        }
      ]
    },
    {
      "cell_type": "markdown",
      "source": [],
      "metadata": {
        "id": "eivovdUdzbIl"
      }
    },
    {
      "cell_type": "markdown",
      "source": [
        "6. Write a function to demonstrate the behavior of mutable and immutable arguments."
      ],
      "metadata": {
        "id": "rARuz1Cp56qb"
      }
    },
    {
      "cell_type": "code",
      "source": [
        "def demonstrate_mutability(mutable_arg, immutable_arg):\n",
        "    print(\"Original mutable argument:\", mutable_arg)\n",
        "    print(\"Original immutable argument:\", immutable_arg)\n",
        "\n",
        "    # Modify mutable argument (it will affect the original list)\n",
        "    mutable_arg.append(4)\n",
        "    print(\"Modified mutable argument:\", mutable_arg)\n",
        "\n",
        "    # Modify immutable argument (it won't affect the original value)\n",
        "    immutable_arg += 10\n",
        "    print(\"Modified immutable argument:\", immutable_arg)\n",
        "\n",
        "# Create mutable and immutable arguments\n",
        "my_list = [1, 2, 3]\n",
        "my_number = 5\n",
        "\n",
        "# Call the function\n",
        "demonstrate_mutability(my_list, my_number)\n",
        "\n",
        "# Show the final values outside the function\n",
        "print(\"Final mutable argument outside function:\", my_list)\n",
        "print(\"Final immutable argument outside function:\", my_number)\n"
      ],
      "metadata": {
        "colab": {
          "base_uri": "https://localhost:8080/"
        },
        "id": "CiqdBpdP5-NB",
        "outputId": "98a372ca-9f30-4ec3-b65b-8513db43d858"
      },
      "execution_count": 5,
      "outputs": [
        {
          "output_type": "stream",
          "name": "stdout",
          "text": [
            "Original mutable argument: [1, 2, 3]\n",
            "Original immutable argument: 5\n",
            "Modified mutable argument: [1, 2, 3, 4]\n",
            "Modified immutable argument: 15\n",
            "Final mutable argument outside function: [1, 2, 3, 4]\n",
            "Final immutable argument outside function: 5\n"
          ]
        }
      ]
    },
    {
      "cell_type": "markdown",
      "source": [],
      "metadata": {
        "id": "726gwanjzbgW"
      }
    },
    {
      "cell_type": "code",
      "source": [],
      "metadata": {
        "id": "NTQLhpNkzcGA"
      },
      "execution_count": null,
      "outputs": []
    },
    {
      "cell_type": "markdown",
      "source": [
        "7. Write a program that performs basic arithmetic operations on two user-input numbers."
      ],
      "metadata": {
        "id": "DRuyUyMi6Izq"
      }
    },
    {
      "cell_type": "code",
      "source": [
        "# Get user input for two numbers\n",
        "num1 = float(input(\"Enter the first number: \"))\n",
        "num2 = float(input(\"Enter the second number: \"))\n",
        "\n",
        "# Perform basic arithmetic operations\n",
        "addition = num1 + num2\n",
        "subtraction = num1 - num2\n",
        "multiplication = num1 * num2\n",
        "division = num1 / num2 if num2 != 0 else \"undefined (cannot divide by zero)\"\n",
        "\n",
        "# Display the results\n",
        "print(f\"Addition: {num1} + {num2} = {addition}\")\n",
        "print(f\"Subtraction: {num1} - {num2} = {subtraction}\")\n",
        "print(f\"Multiplication: {num1} * {num2} = {multiplication}\")\n",
        "print(f\"Division: {num1} / {num2} = {division}\")\n"
      ],
      "metadata": {
        "colab": {
          "base_uri": "https://localhost:8080/"
        },
        "id": "V4xo-GED6Pi7",
        "outputId": "588327a6-62c0-4c3f-935d-a00455ce0ab3"
      },
      "execution_count": 8,
      "outputs": [
        {
          "output_type": "stream",
          "name": "stdout",
          "text": [
            "Enter the first number: 11\n",
            "Enter the second number: 12\n",
            "Addition: 11.0 + 12.0 = 23.0\n",
            "Subtraction: 11.0 - 12.0 = -1.0\n",
            "Multiplication: 11.0 * 12.0 = 132.0\n",
            "Division: 11.0 / 12.0 = 0.9166666666666666\n"
          ]
        }
      ]
    },
    {
      "cell_type": "markdown",
      "source": [],
      "metadata": {
        "id": "Tv-Rm-OMolT1"
      }
    },
    {
      "cell_type": "markdown",
      "source": [
        " 8.Write a program to demonstrate the use of logical operators."
      ],
      "metadata": {
        "id": "XlEcRYPV6wc3"
      }
    },
    {
      "cell_type": "code",
      "source": [
        "# Taking two user inputs for demonstration\n",
        "x = int(input(\"Enter the first number: \"))\n",
        "y = int(input(\"Enter the second number: \"))\n",
        "\n",
        "# Using the logical operators\n",
        "print(\"Using logical 'and':\")\n",
        "print(f\"Both numbers are greater than 5: {x > 5 and y > 5}\")\n",
        "\n",
        "print(\"\\nUsing logical 'or':\")\n",
        "print(f\"At least one number is greater than 5: {x > 5 or y > 5}\")\n",
        "\n",
        "print(\"\\nUsing logical 'not':\")\n",
        "print(f\"Is the first number not greater than 5? {not x > 5}\")\n"
      ],
      "metadata": {
        "colab": {
          "base_uri": "https://localhost:8080/"
        },
        "id": "-Q-_Vnq767Wj",
        "outputId": "2e90af86-a2d5-466b-926a-a1cb52d8d875"
      },
      "execution_count": 9,
      "outputs": [
        {
          "output_type": "stream",
          "name": "stdout",
          "text": [
            "Enter the first number: 11\n",
            "Enter the second number: 12\n",
            "Using logical 'and':\n",
            "Both numbers are greater than 5: True\n",
            "\n",
            "Using logical 'or':\n",
            "At least one number is greater than 5: True\n",
            "\n",
            "Using logical 'not':\n",
            "Is the first number not greater than 5? False\n"
          ]
        }
      ]
    },
    {
      "cell_type": "code",
      "source": [],
      "metadata": {
        "id": "2v_2etWK7DU1"
      },
      "execution_count": null,
      "outputs": []
    },
    {
      "cell_type": "markdown",
      "source": [
        "9. Write a Python program to convert user input from string to integer, float, and boolean types"
      ],
      "metadata": {
        "id": "T-9rdNGa7Nlo"
      }
    },
    {
      "cell_type": "code",
      "source": [
        "# Taking user input as a string\n",
        "user_input = input(\"Enter a value: \")\n",
        "\n",
        "# Converting to integer (if possible)\n",
        "try:\n",
        "    int_value = int(user_input)\n",
        "    print(f\"Converted to integer: {int_value}\")\n",
        "except ValueError:\n",
        "    print(\"Cannot convert to integer.\")\n",
        "\n",
        "# Converting to float (if possible)\n",
        "try:\n",
        "    float_value = float(user_input)\n",
        "    print(f\"Converted to float: {float_value}\")\n",
        "except ValueError:\n",
        "    print(\"Cannot convert to float.\")\n",
        "\n",
        "# Converting to boolean\n",
        "# Empty string is False, any non-empty string is True\n",
        "boolean_value = bool(user_input)\n",
        "print(f\"Converted to boolean: {boolean_value}\")\n"
      ],
      "metadata": {
        "colab": {
          "base_uri": "https://localhost:8080/"
        },
        "id": "i5M3IHpJ7P4E",
        "outputId": "89e5aff2-4dfa-40af-e37a-412f7707ee60"
      },
      "execution_count": 10,
      "outputs": [
        {
          "output_type": "stream",
          "name": "stdout",
          "text": [
            "Enter a value: 11\n",
            "Converted to integer: 11\n",
            "Converted to float: 11.0\n",
            "Converted to boolean: True\n"
          ]
        }
      ]
    },
    {
      "cell_type": "code",
      "source": [],
      "metadata": {
        "id": "NOPlNhgA7Y-e"
      },
      "execution_count": null,
      "outputs": []
    },
    {
      "cell_type": "markdown",
      "source": [
        "10. Write code to demonstrate type casting with list elements"
      ],
      "metadata": {
        "id": "PEn0CVGu7ttt"
      }
    },
    {
      "cell_type": "code",
      "source": [
        "# Original list with mixed types\n",
        "mixed_list = [\"10\", \"20.5\", \"True\", 30, 40.5]\n",
        "\n",
        "# Convert all elements in the list to integers\n",
        "int_list = [int(float(item)) if isinstance(item, str) else int(item) for item in mixed_list]\n",
        "\n",
        "# Convert all elements in the list to floats\n",
        "float_list = [float(item) if isinstance(item, str) else item for item in mixed_list]\n",
        "\n",
        "# Convert all elements in the list to strings\n",
        "str_list = [str(item) for item in mixed_list]\n",
        "\n",
        "# Convert all elements in the list to booleans\n",
        "bool_list = [bool(item) for item in mixed_list]\n",
        "\n",
        "# Display the results\n",
        "print(\"Original list:\", mixed_list)\n",
        "print(\"List with elements converted to integers:\", int_list)\n",
        "print(\"List with elements converted to floats:\", float_list)\n",
        "print(\"List with elements converted to strings:\", str_list)\n",
        "print(\"List with elements converted to booleans:\", bool_list)\n"
      ],
      "metadata": {
        "colab": {
          "base_uri": "https://localhost:8080/",
          "height": 332
        },
        "id": "t6eJIS4P7wMi",
        "outputId": "49a6135d-20ac-44d9-b77f-581a2e373fbd"
      },
      "execution_count": 11,
      "outputs": [
        {
          "output_type": "error",
          "ename": "ValueError",
          "evalue": "could not convert string to float: 'True'",
          "traceback": [
            "\u001b[0;31m---------------------------------------------------------------------------\u001b[0m",
            "\u001b[0;31mValueError\u001b[0m                                Traceback (most recent call last)",
            "\u001b[0;32m<ipython-input-11-b9e8f521c781>\u001b[0m in \u001b[0;36m<cell line: 0>\u001b[0;34m()\u001b[0m\n\u001b[1;32m      3\u001b[0m \u001b[0;34m\u001b[0m\u001b[0m\n\u001b[1;32m      4\u001b[0m \u001b[0;31m# Convert all elements in the list to integers\u001b[0m\u001b[0;34m\u001b[0m\u001b[0;34m\u001b[0m\u001b[0m\n\u001b[0;32m----> 5\u001b[0;31m \u001b[0mint_list\u001b[0m \u001b[0;34m=\u001b[0m \u001b[0;34m[\u001b[0m\u001b[0mint\u001b[0m\u001b[0;34m(\u001b[0m\u001b[0mfloat\u001b[0m\u001b[0;34m(\u001b[0m\u001b[0mitem\u001b[0m\u001b[0;34m)\u001b[0m\u001b[0;34m)\u001b[0m \u001b[0;32mif\u001b[0m \u001b[0misinstance\u001b[0m\u001b[0;34m(\u001b[0m\u001b[0mitem\u001b[0m\u001b[0;34m,\u001b[0m \u001b[0mstr\u001b[0m\u001b[0;34m)\u001b[0m \u001b[0;32melse\u001b[0m \u001b[0mint\u001b[0m\u001b[0;34m(\u001b[0m\u001b[0mitem\u001b[0m\u001b[0;34m)\u001b[0m \u001b[0;32mfor\u001b[0m \u001b[0mitem\u001b[0m \u001b[0;32min\u001b[0m \u001b[0mmixed_list\u001b[0m\u001b[0;34m]\u001b[0m\u001b[0;34m\u001b[0m\u001b[0;34m\u001b[0m\u001b[0m\n\u001b[0m\u001b[1;32m      6\u001b[0m \u001b[0;34m\u001b[0m\u001b[0m\n\u001b[1;32m      7\u001b[0m \u001b[0;31m# Convert all elements in the list to floats\u001b[0m\u001b[0;34m\u001b[0m\u001b[0;34m\u001b[0m\u001b[0m\n",
            "\u001b[0;32m<ipython-input-11-b9e8f521c781>\u001b[0m in \u001b[0;36m<listcomp>\u001b[0;34m(.0)\u001b[0m\n\u001b[1;32m      3\u001b[0m \u001b[0;34m\u001b[0m\u001b[0m\n\u001b[1;32m      4\u001b[0m \u001b[0;31m# Convert all elements in the list to integers\u001b[0m\u001b[0;34m\u001b[0m\u001b[0;34m\u001b[0m\u001b[0m\n\u001b[0;32m----> 5\u001b[0;31m \u001b[0mint_list\u001b[0m \u001b[0;34m=\u001b[0m \u001b[0;34m[\u001b[0m\u001b[0mint\u001b[0m\u001b[0;34m(\u001b[0m\u001b[0mfloat\u001b[0m\u001b[0;34m(\u001b[0m\u001b[0mitem\u001b[0m\u001b[0;34m)\u001b[0m\u001b[0;34m)\u001b[0m \u001b[0;32mif\u001b[0m \u001b[0misinstance\u001b[0m\u001b[0;34m(\u001b[0m\u001b[0mitem\u001b[0m\u001b[0;34m,\u001b[0m \u001b[0mstr\u001b[0m\u001b[0;34m)\u001b[0m \u001b[0;32melse\u001b[0m \u001b[0mint\u001b[0m\u001b[0;34m(\u001b[0m\u001b[0mitem\u001b[0m\u001b[0;34m)\u001b[0m \u001b[0;32mfor\u001b[0m \u001b[0mitem\u001b[0m \u001b[0;32min\u001b[0m \u001b[0mmixed_list\u001b[0m\u001b[0;34m]\u001b[0m\u001b[0;34m\u001b[0m\u001b[0;34m\u001b[0m\u001b[0m\n\u001b[0m\u001b[1;32m      6\u001b[0m \u001b[0;34m\u001b[0m\u001b[0m\n\u001b[1;32m      7\u001b[0m \u001b[0;31m# Convert all elements in the list to floats\u001b[0m\u001b[0;34m\u001b[0m\u001b[0;34m\u001b[0m\u001b[0m\n",
            "\u001b[0;31mValueError\u001b[0m: could not convert string to float: 'True'"
          ]
        }
      ]
    },
    {
      "cell_type": "code",
      "source": [],
      "metadata": {
        "id": "hGbkWGCD726Y"
      },
      "execution_count": null,
      "outputs": []
    },
    {
      "cell_type": "markdown",
      "source": [
        "11.Write a program that checks if a number is positive, negative, or zero."
      ],
      "metadata": {
        "id": "nBzNauQK7_Sy"
      }
    },
    {
      "cell_type": "code",
      "source": [
        "# Get user input\n",
        "num = float(input(\"Enter a number: \"))\n",
        "\n",
        "# Check if the number is positive, negative, or zero\n",
        "if num > 0:\n",
        "    print(\"The number is positive.\")\n",
        "elif num < 0:\n",
        "    print(\"The number is negative.\")\n",
        "else:\n",
        "    print(\"The number is zero.\")\n"
      ],
      "metadata": {
        "colab": {
          "base_uri": "https://localhost:8080/"
        },
        "id": "bj-ZmFaO8MsK",
        "outputId": "e188fb40-b9ec-4f43-ef34-5041d82094a0"
      },
      "execution_count": 12,
      "outputs": [
        {
          "output_type": "stream",
          "name": "stdout",
          "text": [
            "Enter a number: 22\n",
            "The number is positive.\n"
          ]
        }
      ]
    },
    {
      "cell_type": "code",
      "source": [],
      "metadata": {
        "id": "w2e6xN8S8ThQ"
      },
      "execution_count": null,
      "outputs": []
    },
    {
      "cell_type": "markdown",
      "source": [
        "12. Write a for loop to print numbers from 1 to 10."
      ],
      "metadata": {
        "id": "jgZQe6Uy8dwv"
      }
    },
    {
      "cell_type": "code",
      "source": [
        "# Using a for loop to print numbers from 1 to 10\n",
        "for i in range(1, 11):\n",
        "    print(i)\n"
      ],
      "metadata": {
        "colab": {
          "base_uri": "https://localhost:8080/"
        },
        "id": "jQh3jqPj8gco",
        "outputId": "0b360385-fcc3-4507-cfb6-84c321403236"
      },
      "execution_count": 13,
      "outputs": [
        {
          "output_type": "stream",
          "name": "stdout",
          "text": [
            "1\n",
            "2\n",
            "3\n",
            "4\n",
            "5\n",
            "6\n",
            "7\n",
            "8\n",
            "9\n",
            "10\n"
          ]
        }
      ]
    },
    {
      "cell_type": "code",
      "source": [],
      "metadata": {
        "id": "hVwKBRqz8mQb"
      },
      "execution_count": null,
      "outputs": []
    },
    {
      "cell_type": "markdown",
      "source": [
        "13.. Write a Python program to find the sum of all even numbers between 1 and 50."
      ],
      "metadata": {
        "id": "6-qN8r4s8n0-"
      }
    },
    {
      "cell_type": "code",
      "source": [
        "# Initialize the sum variable\n",
        "even_sum = 0\n",
        "\n",
        "# Loop through numbers from 1 to 50\n",
        "for num in range(1, 51):\n",
        "    if num % 2 == 0:  # Check if the number is even\n",
        "        even_sum += num\n",
        "\n",
        "# Print the result\n",
        "print(\"Sum of all even numbers between 1 and 50:\", even_sum)\n"
      ],
      "metadata": {
        "colab": {
          "base_uri": "https://localhost:8080/"
        },
        "id": "sSWcwnJa8xV6",
        "outputId": "207fffdf-88cd-40a5-d11b-2c298d32f43c"
      },
      "execution_count": 14,
      "outputs": [
        {
          "output_type": "stream",
          "name": "stdout",
          "text": [
            "Sum of all even numbers between 1 and 50: 650\n"
          ]
        }
      ]
    },
    {
      "cell_type": "code",
      "source": [],
      "metadata": {
        "id": "PeBFpW-0834P"
      },
      "execution_count": null,
      "outputs": []
    },
    {
      "cell_type": "markdown",
      "source": [
        "14. Write a program to reverse a string using a while loop"
      ],
      "metadata": {
        "id": "X7oFYmkQ86-j"
      }
    },
    {
      "cell_type": "code",
      "source": [
        "# Get user input\n",
        "input_string = input(\"Enter a string: \")\n",
        "\n",
        "# Initialize variables\n",
        "reversed_string = \"\"\n",
        "index = len(input_string) - 1\n",
        "\n",
        "# Use while loop to reverse the string\n",
        "while index >= 0:\n",
        "    reversed_string += input_string[index]\n",
        "    index -= 1\n",
        "\n",
        "# Print the reversed string\n",
        "print(\"Reversed string:\", reversed_string)\n"
      ],
      "metadata": {
        "colab": {
          "base_uri": "https://localhost:8080/"
        },
        "id": "wyq_OLar9L0Y",
        "outputId": "6e345307-64a4-417a-d665-1abfbdb2f57f"
      },
      "execution_count": 15,
      "outputs": [
        {
          "output_type": "stream",
          "name": "stdout",
          "text": [
            "Enter a string: vishal\n",
            "Reversed string: lahsiv\n"
          ]
        }
      ]
    },
    {
      "cell_type": "markdown",
      "source": [],
      "metadata": {
        "id": "Ibg4gDUq85kP"
      }
    },
    {
      "cell_type": "markdown",
      "source": [
        "15.Write a Python program to calculate the factorial of a number provided by the user using a while loop."
      ],
      "metadata": {
        "id": "6u4T-IeD9YSm"
      }
    },
    {
      "cell_type": "code",
      "source": [
        "# Get user input\n",
        "num = int(input(\"Enter a number to calculate its factorial: \"))\n",
        "\n",
        "# Initialize variables\n",
        "factorial = 1\n",
        "i = 1\n",
        "\n",
        "# Use while loop to calculate factorial\n",
        "while i <= num:\n",
        "    factorial *= i\n",
        "    i += 1\n",
        "\n",
        "# Print the result\n",
        "print(f\"The factorial of {num} is {factorial}\")\n"
      ],
      "metadata": {
        "colab": {
          "base_uri": "https://localhost:8080/"
        },
        "id": "qCh84Nqf9fBn",
        "outputId": "c62e1eca-c236-41cc-8bb7-d2c98cee2ee1"
      },
      "execution_count": 16,
      "outputs": [
        {
          "output_type": "stream",
          "name": "stdout",
          "text": [
            "Enter a number to calculate its factorial: 12\n",
            "The factorial of 12 is 479001600\n"
          ]
        }
      ]
    },
    {
      "cell_type": "code",
      "source": [],
      "metadata": {
        "id": "HLRuKMjI9lIW"
      },
      "execution_count": null,
      "outputs": []
    }
  ]
}